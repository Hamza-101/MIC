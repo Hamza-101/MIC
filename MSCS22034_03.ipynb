{
 "cells": [
  {
   "cell_type": "markdown",
   "metadata": {},
   "source": [
    "## Importing dependencies"
   ]
  },
  {
   "cell_type": "code",
   "execution_count": 1,
   "metadata": {},
   "outputs": [],
   "source": [
    "import numpy as np\n",
    "import cv2\n",
    "from scipy.spatial import distance\n",
    "import random\n",
    "import os"
   ]
  },
  {
   "cell_type": "markdown",
   "metadata": {},
   "source": [
    "## Functions"
   ]
  },
  {
   "cell_type": "code",
   "execution_count": 2,
   "metadata": {},
   "outputs": [],
   "source": [
    "def recoverTransformation(R_Points, M_Points):\n",
    "    A = np.array([[R_Points[0][0][1],R_Points[0][1][1],1,0,0,0],[0,0,0,R_Points[0][0][1],R_Points[0][1][1],1],\n",
    "                  [R_Points[1][0][1],R_Points[1][1][1],1,0,0,0],[0,0,0,R_Points[1][0][1],R_Points[1][1][1],1],\n",
    "                  [R_Points[2][0][1],R_Points[2][1][1],1,0,0,0],[0,0,0,R_Points[2][0][1],R_Points[2][1][1],1]])\n",
    "    \n",
    "    B = np.array([[R_Points[0][0][0]],[R_Points[0][1][0]],[R_Points[1][0][0]],[R_Points[1][1][0]],[R_Points[2][0][0]],[R_Points[2][1][0]]])\n",
    "    \n",
    "    Transform = np.matmul(np.linalg.pinv(A),B)\n",
    "    Transform = Transform.reshape((2, 3))\n",
    "    x = []\n",
    "    for i in range(M_Points.shape[0]):\n",
    "        x.append([M_Points[i][0][1], M_Points[i][1][1], 1])\n",
    "    x = np.array(x)\n",
    "    \n",
    "    Transform_Pts = np.matmul(Transform, np.transpose(x))\n",
    "    inliers = []\n",
    "    for i in range(M_Points.shape[0]):\n",
    "        MSE = ((M_Points[i][1][0] - Transform_Pts[1][i])**2 + (M_Points[i][0][0] - Transform_Pts[0][i])**2)**0.5\n",
    "        if (MSE < 3):\n",
    "            inliers.append(M_Points[i])\n",
    "    \n",
    "    inliers = np.array(inliers)\n",
    "    \n",
    "    return [Transform, inliers]"
   ]
  },
  {
   "cell_type": "code",
   "execution_count": 3,
   "metadata": {},
   "outputs": [],
   "source": [
    "def extract_features(imagearray, num_points):\n",
    "    image = imagearray\n",
    "    sift = cv2.SIFT_create(num_points)\n",
    "    keypoints, descriptors = sift.detectAndCompute(image, None)\n",
    "    return keypoints, descriptors"
   ]
  },
  {
   "cell_type": "code",
   "execution_count": 4,
   "metadata": {},
   "outputs": [],
   "source": [
    "def stitchImages(I1, I2):\n",
    "    N = 400\n",
    "    print(\"I1.dtype\" , I1.dtype)\n",
    "    [feature1, descriptor1] = extract_features(I1, N)\n",
    "    [feature2, descriptor2] = extract_features(I2, N)\n",
    "\n",
    "    f1 = np.zeros((4, N))\n",
    "    f2 = np.zeros((4, N))\n",
    "    \n",
    "    for i in range(N):\n",
    "        f1[0][i], f1[1][i] = feature1[i].pt\n",
    "        f1[2][i] = feature1[i].size\n",
    "        f1[3][i] = feature1[i].angle\n",
    "        f2[0][i], f2[1][i] = feature2[i].pt\n",
    "        f2[2][i] = feature2[i].size\n",
    "        f2[3][i] = feature2[i].angle\n",
    "    \n",
    "    rdf1 = random.sample(feature1, 200)\n",
    "    rdf2 = random.sample(feature2, 200)\n",
    "    \n",
    "    featurePoints1 = cv2.drawKeypoints(I1, rdf1, np.array([]), (0,255,255), cv2.DRAW_MATCHES_FLAGS_DRAW_RICH_KEYPOINTS)\n",
    "    featurePoints2 = cv2.drawKeypoints(I2, rdf2, np.array([]), (0,255,255), cv2.DRAW_MATCHES_FLAGS_DRAW_RICH_KEYPOINTS)\n",
    "    \n",
    "    distances = distance.cdist(descriptor1, descriptor2, 'euclidean')\n",
    "    \n",
    "    matchingPts1 = []\n",
    "    matchingPts2 = []\n",
    "    \n",
    "    threshold = np.median(distances) * 0.7  # Adjust the scaling factor as needed\n",
    "\n",
    "    f1 = np.transpose(f1)\n",
    "    f2 = np.transpose(f2)\n",
    "    \n",
    "    for i in range(distances.shape[0]):\n",
    "        for j in range(distances.shape[1]):\n",
    "            if(distances[i][j] < threshold):\n",
    "                matchingPts1.append(f1[i])\n",
    "                matchingPts2.append(f2[j])\n",
    "    \n",
    "    matchingPts1 = np.array(matchingPts1)\n",
    "    matchingPts2 = np.array(matchingPts2)\n",
    "    \n",
    "    matchingPts = np.transpose(np.array([matchingPts1, matchingPts2]), (1, 2, 0))\n",
    "    \n",
    "    matches = np.zeros((I1.shape[0], I1.shape[1] + I2.shape[1], I1.shape[2]), dtype=\"uint8\")\n",
    "    \n",
    "    for i in range(I1.shape[0]):\n",
    "        for j in range(I1.shape[1]):\n",
    "            matches[i][j] = I1[i][j]\n",
    "    \n",
    "    for i in range(I2.shape[0]):\n",
    "        for j in range(I2.shape[1]):\n",
    "            matches[i][I1.shape[1]+j] = I2[i][j]\n",
    "    bMatches = matches.copy()\n",
    "    \n",
    "    for i in range(matchingPts.shape[0]):\n",
    "        matches = cv2.line(matches, (int(matchingPts[i][0][0]), int(matchingPts[i][1][0])), (int(I1.shape[1] + matchingPts[i][0][1]), int(matchingPts[i][1][1])), (0, 255, 255), 1)\n",
    "    randomPts = np.array(random.sample(list(matchingPts), 4))\n",
    "    bestInliers = randomPts.copy()\n",
    "    \n",
    "    for i in range(200):\n",
    "        randomPts = np.array(random.sample(list(matchingPts), 4))\n",
    "        [T, inliers] = recoverTransformation(randomPts, matchingPts)\n",
    "        if(inliers.shape[0] > bestInliers.shape[0]):\n",
    "            bestInliers = inliers.copy()\n",
    "            bestT = T\n",
    "    \n",
    "    for i in range(bestInliers.shape[0]):\n",
    "        bMatches = cv2.line(bMatches, (int(bestInliers[i][0][0]), int(bestInliers[i][1][0])), (int(I1.shape[1] + bestInliers[i][0][1]), int(bestInliers[i][1][1])), (0, 255, 255), 1)\n",
    "    \n",
    "    T_Image = np.array(cv2.warpAffine(I2, bestT, (I1.shape[1]*2, I1.shape[0])))\n",
    "    \n",
    "    for i in range(I1.shape[0]):\n",
    "        for j in range(I1.shape[1]):\n",
    "            #if(T_Image[i][j][0]==0 and T_Image[i][j][1]==0 and T_Image[i][j][2]==0):\n",
    "            T_Image[i][j] = I1[i][j]\n",
    "    \n",
    "    panoramaWidth = T_Image.shape[1]\n",
    "    panoramaHeight = T_Image.shape[0]\n",
    "    \n",
    "    while(True):\n",
    "        if(T_Image[int(T_Image.shape[0]/2)][panoramaWidth-1][0]==0 and T_Image[int(T_Image.shape[0]/2)][panoramaWidth-1][1]==0 and T_Image[int(T_Image.shape[0]/2)][panoramaWidth-1][2]==0):\n",
    "            panoramaWidth=panoramaWidth-1\n",
    "        else:\n",
    "            break\n",
    "    \n",
    "    while(True):\n",
    "        if(T_Image[panoramaHeight-1][panoramaWidth-1][0]==0 and T_Image[panoramaHeight-1][panoramaWidth-1][1]==0 and T_Image[panoramaHeight-1][panoramaWidth-1][2]==0):\n",
    "            panoramaHeight=panoramaHeight-1\n",
    "        else:\n",
    "            break\n",
    "    \n",
    "    stitchedImage = np.zeros((panoramaHeight, panoramaWidth, T_Image.shape[2]))\n",
    "    \n",
    "    for i in range(panoramaHeight):\n",
    "        for j in range(panoramaWidth):\n",
    "            stitchedImage[i][j] = T_Image[i][j]\n",
    "    \n",
    "    return [featurePoints1, featurePoints2, matches, bMatches, bestT, stitchedImage]"
   ]
  },
  {
   "cell_type": "markdown",
   "metadata": {},
   "source": [
    "## Running algorithm on Set 2"
   ]
  },
  {
   "cell_type": "code",
   "execution_count": 12,
   "metadata": {},
   "outputs": [
    {
     "name": "stdout",
     "output_type": "stream",
     "text": [
      "I1.dtype uint8\n"
     ]
    },
    {
     "data": {
      "text/plain": [
       "True"
      ]
     },
     "execution_count": 12,
     "metadata": {},
     "output_type": "execute_result"
    }
   ],
   "source": [
    "base_path=\"Dataset/set2/\"\n",
    "result_path=\"Results/set2/\"\n",
    "\n",
    "# Extract local feature points for images in the set\n",
    "Image1 = np.array(cv2.imread(os.path.join(base_path, f\"set2_1_100_AML.png\")))\n",
    "Image2 = np.array(cv2.imread(os.path.join(base_path,  f\"set2_2_100_AML.png\")))\n",
    "# Include the necessary code here for the functions stitchImages\n",
    "[featurePoints1, featurePoints2, matches, bestMatches, bestT, stitchedImage] = stitchImages(Image1, Image2)\n",
    "# Save the results of each step\n",
    "cv2.imwrite(os.path.join(result_path, \"featurePoints1.jpg\"), featurePoints1)\n",
    "cv2.imwrite(os.path.join(result_path, \"featurePoints2.jpg\"), featurePoints2)\n",
    "cv2.imwrite(os.path.join(result_path, \"matches.jpg\"), matches)\n",
    "cv2.imwrite(os.path.join(result_path, \"bestMatches.jpg\"), bestMatches)\n",
    "cv2.imwrite(os.path.join(result_path,  \"panorama.jpg\"), stitchedImage)\n"
   ]
  },
  {
   "cell_type": "markdown",
   "metadata": {},
   "source": [
    "## ## Running algorithm on Natural Set"
   ]
  },
  {
   "cell_type": "code",
   "execution_count": 11,
   "metadata": {},
   "outputs": [
    {
     "name": "stdout",
     "output_type": "stream",
     "text": [
      "I1.dtype uint8\n"
     ]
    },
    {
     "data": {
      "text/plain": [
       "True"
      ]
     },
     "execution_count": 11,
     "metadata": {},
     "output_type": "execute_result"
    }
   ],
   "source": [
    "base_path=\"Dataset/naturalset/\"\n",
    "result_path=\"Results/naturalset/\"\n",
    "\n",
    "\n",
    "# Extract local feature points for images in the set\n",
    "Image1 = np.array(cv2.imread(os.path.join(base_path, f\"nature7.jpg\")))\n",
    "Image2 = np.array(cv2.imread(os.path.join(base_path,  f\"nature8.jpg\")))\n",
    "# Include the necessary code here for the functions stitchImages\n",
    "[featurePoints1, featurePoints2, matches, bestMatches, bestT, stitchedImage] = stitchImages(Image1, Image2)\n",
    "# Save the results of each step\n",
    "cv2.imwrite(os.path.join(result_path, \"naturalset_FeaturePoints1.jpg\"), featurePoints1)\n",
    "cv2.imwrite(os.path.join(result_path, \"naturalset_FeaturePoints2.jpg\"), featurePoints2)\n",
    "cv2.imwrite(os.path.join(result_path, \"naturalset_matches.jpg\"), matches)\n",
    "cv2.imwrite(os.path.join(result_path, \"naturalset_BMatches.jpg\"), bestMatches)\n",
    "cv2.imwrite(os.path.join(result_path,  \"naturalset_panorama.jpg\"), stitchedImage)"
   ]
  }
 ],
 "metadata": {
  "kernelspec": {
   "display_name": "Python 3",
   "language": "python",
   "name": "python3"
  },
  "language_info": {
   "codemirror_mode": {
    "name": "ipython",
    "version": 3
   },
   "file_extension": ".py",
   "mimetype": "text/x-python",
   "name": "python",
   "nbconvert_exporter": "python",
   "pygments_lexer": "ipython3",
   "version": "3.11.4"
  }
 },
 "nbformat": 4,
 "nbformat_minor": 2
}
